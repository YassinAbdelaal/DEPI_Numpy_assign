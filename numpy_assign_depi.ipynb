{
  "nbformat": 4,
  "nbformat_minor": 0,
  "metadata": {
    "colab": {
      "provenance": []
    },
    "kernelspec": {
      "name": "python3",
      "display_name": "Python 3"
    },
    "language_info": {
      "name": "python"
    }
  },
  "cells": [
    {
      "cell_type": "markdown",
      "source": [
        "#1. Broadcasting\n",
        " a) Add a 1D array `[1, 2, 3]` to each row of a 2D array `[[10, 20, 30], [40, 50, 60]]`.\n",
        "Expected: [[11, 22, 33], [41, 52, 63]]\n"
      ],
      "metadata": {
        "id": "f2Eo3EQq3CNi"
      }
    },
    {
      "cell_type": "code",
      "source": [
        "import numpy as np\n",
        "A = np.array([[10, 20, 30], [40, 50, 60]])\n",
        "B = np.array([1, 2, 3])\n",
        "result = A + B\n",
        "print(result)\n"
      ],
      "metadata": {
        "colab": {
          "base_uri": "https://localhost:8080/"
        },
        "id": "K-pS0gfo3DgO",
        "outputId": "2934f1c9-3ac8-4e0d-85be-d5e5c782cc7e"
      },
      "execution_count": 1,
      "outputs": [
        {
          "output_type": "stream",
          "name": "stdout",
          "text": [
            "[[11 22 33]\n",
            " [41 52 63]]\n"
          ]
        }
      ]
    },
    {
      "cell_type": "markdown",
      "source": [
        "Multiply a 2D array `[[1, 2], [3, 4]]` by a 1D array `[10, 20]` column-wise.\n",
        " Expected: [[10, 20], [60, 80]]\n",
        "\n"
      ],
      "metadata": {
        "id": "OOhwjsgY3SOg"
      }
    },
    {
      "cell_type": "code",
      "source": [
        "A = np.array([[1, 2], [3, 4]])\n",
        "B = np.array([10, 20]).reshape(-1, 1)\n",
        "result = A * B\n",
        "print(result)\n"
      ],
      "metadata": {
        "colab": {
          "base_uri": "https://localhost:8080/"
        },
        "id": "q4eeHhel3e3F",
        "outputId": "e6ae9fbf-03ae-4b68-92ed-d5178f9ffaa5"
      },
      "execution_count": 4,
      "outputs": [
        {
          "output_type": "stream",
          "name": "stdout",
          "text": [
            "[[10 20]\n",
            " [60 80]]\n"
          ]
        }
      ]
    },
    {
      "cell_type": "markdown",
      "source": [
        "#2. Indexing and Slicing (High Dimensional Arrays)\n",
        "#arr = np.arange(1, 25).reshape(2, 3, 4)\n",
        " a) Extract the second slice along axis 0.\n",
        "Expected: [[13, 14, 15, 16], [17, 18, 19, 20], [21, 22, 23, 24]]\n",
        "\n"
      ],
      "metadata": {
        "id": "yWQeUc9q3qwN"
      }
    },
    {
      "cell_type": "code",
      "source": [
        "arr = np.arange(1, 25).reshape(2, 3, 4)\n",
        "a_result = arr[1]\n",
        "print(\"a)\\n\", a_result)"
      ],
      "metadata": {
        "colab": {
          "base_uri": "https://localhost:8080/"
        },
        "id": "rOdeAZkG39ml",
        "outputId": "df5e4ba3-c2e5-4daf-93de-38f6b1e330bb"
      },
      "execution_count": 6,
      "outputs": [
        {
          "output_type": "stream",
          "name": "stdout",
          "text": [
            "a)\n",
            " [[13 14 15 16]\n",
            " [17 18 19 20]\n",
            " [21 22 23 24]]\n"
          ]
        }
      ]
    },
    {
      "cell_type": "markdown",
      "source": [
        "b) Extract all rows and the last column for all slices.\n",
        " Expected: [[4, 8, 12], [16, 20, 24]]"
      ],
      "metadata": {
        "id": "YYGKuQno4SgA"
      }
    },
    {
      "cell_type": "code",
      "source": [
        "b_result = arr[:, :, -1]\n",
        "print(\"b)\\n\", b_result)"
      ],
      "metadata": {
        "colab": {
          "base_uri": "https://localhost:8080/"
        },
        "id": "OEIJjzUS4RoP",
        "outputId": "88a65a92-ea7a-4fbd-8a10-37ef8a049ad0"
      },
      "execution_count": 7,
      "outputs": [
        {
          "output_type": "stream",
          "name": "stdout",
          "text": [
            "b)\n",
            " [[ 4  8 12]\n",
            " [16 20 24]]\n"
          ]
        }
      ]
    },
    {
      "cell_type": "markdown",
      "source": [
        "c) Reverse the order of slices along axis 0.\n",
        " Expected: [[[13, 14, 15, 16], ...], [[1, 2, 3, 4], ...]]\n"
      ],
      "metadata": {
        "id": "PrSzskWl4c-I"
      }
    },
    {
      "cell_type": "code",
      "source": [
        "c_result = arr[::-1]\n",
        "print(\"c)\\n\", c_result)\n"
      ],
      "metadata": {
        "colab": {
          "base_uri": "https://localhost:8080/"
        },
        "id": "QbqReszi4cSx",
        "outputId": "2ace6297-5548-4027-ea74-9b3f0b0b8f83"
      },
      "execution_count": 8,
      "outputs": [
        {
          "output_type": "stream",
          "name": "stdout",
          "text": [
            "c)\n",
            " [[[13 14 15 16]\n",
            "  [17 18 19 20]\n",
            "  [21 22 23 24]]\n",
            "\n",
            " [[ 1  2  3  4]\n",
            "  [ 5  6  7  8]\n",
            "  [ 9 10 11 12]]]\n"
          ]
        }
      ]
    },
    {
      "cell_type": "markdown",
      "source": [
        "d) Set all even elements in the array to -1.\n",
        "Expected: All even numbers replaced by -1.\n"
      ],
      "metadata": {
        "id": "AEDIr_7d4rm1"
      }
    },
    {
      "cell_type": "code",
      "source": [
        "d_result = arr.copy(),
        "d_result[d_result % 2 == 0] = -1\n",
        "print(\"d)\\n\", d_result)"
      ],
      "metadata": {
        "colab": {
          "base_uri": "https://localhost:8080/"
        },
        "id": "Unb8jkAx4cVl",
        "outputId": "310d2df9-2c07-4423-fded-b9af63e53d4a"
      },
      "execution_count": 9,
      "outputs": [
        {
          "output_type": "stream",
          "name": "stdout",
          "text": [
            "d)\n",
            " [[[ 1 -1  3 -1]\n",
            "  [ 5 -1  7 -1]\n",
            "  [ 9 -1 11 -1]]\n",
            "\n",
            " [[13 -1 15 -1]\n",
            "  [17 -1 19 -1]\n",
            "  [21 -1 23 -1]]]\n"
          ]
        }
      ]
    },
    {
      "cell_type": "markdown",
      "source": [
        "#3. np.repeat\n"
      ],
      "metadata": {
        "id": "AFYC6tFw5aRX"
      }
    },
    {
      "cell_type": "markdown",
      "source": [
        " a) Given `arr = np.array([1, 2, 3, 4, 5, 6])`, create a new array where every odd element is repeated twice.\n",
        " Expected: [1, 1, 3, 3, 5, 5]"
      ],
      "metadata": {
        "id": "J1sziObN5aUQ"
      }
    },
    {
      "cell_type": "code",
      "source": [
        "arr = np.array([1, 2, 3, 4, 5, 6])\n",
        "result_a = np.repeat(arr[arr % 2 == 1], 2)\n",
        "print(result_a)"
      ],
      "metadata": {
        "colab": {
          "base_uri": "https://localhost:8080/"
        },
        "id": "AvKtAJl25e4A",
        "outputId": "9cb5dfa4-875a-4cb3-b3f1-f86570fbaaab"
      },
      "execution_count": 10,
      "outputs": [
        {
          "output_type": "stream",
          "name": "stdout",
          "text": [
            "[1 1 3 3 5 5]\n"
          ]
        }
      ]
    },
    {
      "cell_type": "markdown",
      "source": [
        "b) Given `arr = np.array([1, 2, 3, 4, 5, 6])`, create a new array where elements are repeated based on their value.\n",
        " For example, `1` is repeated once, `2` twice, etc.\n",
        " Expected: [1, 2, 2, 3, 3, 3, 4, 4, 4, 4, ...]\n"
      ],
      "metadata": {
        "id": "W9wSetEQ5q4r"
      }
    },
    {
      "cell_type": "code",
      "source": [
        "result_b = np.repeat(arr, arr)\n",
        "\n",
        "print(result_b)"
      ],
      "metadata": {
        "colab": {
          "base_uri": "https://localhost:8080/"
        },
        "id": "SZ4Flc2w5pQc",
        "outputId": "68e098b2-e80f-42e6-ddda-1402f3a3b10d"
      },
      "execution_count": 12,
      "outputs": [
        {
          "output_type": "stream",
          "name": "stdout",
          "text": [
            "[1 2 2 3 3 3 4 4 4 4 5 5 5 5 5 6 6 6 6 6 6]\n"
          ]
        }
      ]
    },
    {
      "cell_type": "markdown",
      "source": [
        "#4. Normalizing\n",
        "a) Normalize a 1D array `arr = np.array([10, 20, 30])` to have values between 0 and 1.\n",
        "Expected: [0.0, 0.5, 1.0]"
      ],
      "metadata": {
        "id": "s6Cu1urm5zKm"
      }
    },
    {
      "cell_type": "code",
      "source": [
        "arr = np.array([10, 20, 30])\n",
        "result_arr = (arr - arr.min()) / (arr.max() - arr.min())\n",
        "print(result_arr)"
      ],
      "metadata": {
        "colab": {
          "base_uri": "https://localhost:8080/"
        },
        "id": "0z68-Kf95pTP",
        "outputId": "0ab13a03-3576-43d9-9fc8-ed72655bbba9"
      },
      "execution_count": 22,
      "outputs": [
        {
          "output_type": "stream",
          "name": "stdout",
          "text": [
            "[0.  0.5 1. ]\n"
          ]
        }
      ]
    },
    {
      "cell_type": "markdown",
      "source": [
        "#5. Bonus Challenge\n",
        "a) Create a 3x3 matrix where each element at position (i, j) is i * j.\n",
        "Expected: [[0, 0, 0], [0, 1, 2], [0, 2, 4]]\n"
      ],
      "metadata": {
        "id": "fpvYnfVl6Ofy"
      }
    },
    {
      "cell_type": "code",
      "source": [
        "arr_5a= np.zeros((3, 3), dtype=int)\n",
        "for i in range(3):\n",
        "    for j in range(3):\n",
        "        arr_5a[i, j] = i * j\n",
        "print(arr_5a)"
      ],
      "metadata": {
        "colab": {
          "base_uri": "https://localhost:8080/"
        },
        "id": "cg0vAvV16TDG",
        "outputId": "c8cc9460-f4c3-4ae4-e29a-cceeb72b1a59"
      },
      "execution_count": 24,
      "outputs": [
        {
          "output_type": "stream",
          "name": "stdout",
          "text": [
            "[[0 0 0]\n",
            " [0 1 2]\n",
            " [0 2 4]]\n"
          ]
        }
      ]
    },
    {
      "cell_type": "markdown",
      "source": [
        "b) Given a 4x4 matrix, replace all elements on the main diagonal with 0 without using a loop.\n",
        " Expected: Diagonal elements replaced with 0.\n"
      ],
      "metadata": {
        "id": "kFBNBmpu6uaL"
      }
    },
    {
      "cell_type": "code",
      "source": [
        "arr_5b = np.random.randint(1, 10, (4, 4))\n",
        "for i in range(4):\n",
        "    for j in range(4):\n",
        "        if i==j:\n",
        "            arr_5b[i, j] = 0\n",
        "print(arr_5b)\n"
      ],
      "metadata": {
        "colab": {
          "base_uri": "https://localhost:8080/"
        },
        "id": "1PZw9GBG6um4",
        "outputId": "e59b91f5-9c1f-4a9a-83d4-26c9448c1db2"
      },
      "execution_count": 25,
      "outputs": [
        {
          "output_type": "stream",
          "name": "stdout",
          "text": [
            "[[0 6 3 5]\n",
            " [4 0 2 6]\n",
            " [9 2 0 8]\n",
            " [8 6 1 0]]\n"
          ]
        }
      ]
    }
  ]
}
